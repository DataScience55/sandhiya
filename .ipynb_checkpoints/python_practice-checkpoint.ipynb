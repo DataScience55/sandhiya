{
 "cells": [
  {
   "cell_type": "code",
   "execution_count": null,
   "metadata": {},
   "outputs": [],
   "source": [
    "# create 3variables and get value from users\n",
    "\n",
    "name = input(\"Enter the value : \")\n",
    "age = int(input(\"Enter your age :\" ))\n",
    "weight = float(input(\"Enter your weight :\" ))\n"
   ]
  },
  {
   "cell_type": "code",
   "execution_count": null,
   "metadata": {},
   "outputs": [],
   "source": [
    "print(f\"my name is {name}, my age is {age}, my weight is{weight}\")"
   ]
  },
  {
   "cell_type": "code",
   "execution_count": null,
   "metadata": {},
   "outputs": [],
   "source": [
    "print(f\"My name is {name}\\nMy age is {age}\\nMy weight is {weight}\" )"
   ]
  },
  {
   "cell_type": "code",
   "execution_count": null,
   "metadata": {},
   "outputs": [],
   "source": [
    "print(\"My name is \",name , \"My age is \",age , \"My weight is\", weight)"
   ]
  },
  {
   "cell_type": "code",
   "execution_count": null,
   "metadata": {},
   "outputs": [],
   "source": [
    "print(\"My name is \", name,\"\\nMy age is \", age,\"\\nMy weight is \")"
   ]
  },
  {
   "cell_type": "code",
   "execution_count": null,
   "metadata": {},
   "outputs": [],
   "source": [
    "print(\"My name is \"+ name+\" \"+ \"My age is \"+ str(age)+ \" My weight is\"+str(weight))"
   ]
  },
  {
   "cell_type": "code",
   "execution_count": null,
   "metadata": {},
   "outputs": [],
   "source": [
    "# Task - 1\n",
    "\n",
    "# Create 3 Variables (str, int, float) and do Arithmetic operations\n",
    "\n",
    "a = input(\"Enter the value : \")\n",
    "\n",
    "b = int(input(\"Enter the value : \"))\n",
    "        \n",
    "c = float(input(\"Enter the value : \")) \n",
    "\n",
    "print(int(a)+b+c)\n",
    "print(int(a)-b-c)\n",
    "print(int(a)*b*c) \n",
    "print(int(a)/b/c)\n"
   ]
  },
  {
   "cell_type": "code",
   "execution_count": null,
   "metadata": {},
   "outputs": [],
   "source": [
    "# Task -2 \n",
    "\n",
    "# Band name creator - get values for city & animal and suggest name - Ex output - \"SVP Lions\"ci\n",
    "\n",
    "\n",
    "city = input(\"Enter your city : \")\n",
    "\n",
    "animal = input(\"Enter the animal : \")\n",
    "\n",
    "print(\"your band name \",(city +\" \"+ animal))"
   ]
  },
  {
   "cell_type": "code",
   "execution_count": null,
   "metadata": {},
   "outputs": [],
   "source": [
    "# Task -2 \n",
    "\n",
    "# Band name creator - get values for city & animal and suggest name\n",
    "# Ex output- \"SVP Lions\"\n",
    "\n",
    "city = input(\"Enter your city : \")\n",
    "\n",
    "animal = input(\"Enter the animal : \")\n",
    "\n",
    "print(\"your band name \",(city +\" \"+ animal))"
   ]
  },
  {
   "cell_type": "code",
   "execution_count": null,
   "metadata": {},
   "outputs": [],
   "source": [
    "# Task 3 - BMI Calculator \n",
    "\n",
    "#Get values from the user for weight and height and calculate BMI.  \n",
    "\n",
    "# BMI = weight / height^2\n",
    "\n",
    "\n"
   ]
  },
  {
   "cell_type": "code",
   "execution_count": 1,
   "metadata": {},
   "outputs": [],
   "source": [
    "# Task 4 - Life in Weeks\n",
    "\n",
    "# Average age = 90\n",
    "# Get the value from the user for age and caculate their balance life in years, months, weeks and days\n",
    "\n",
    "\n",
    "\n"
   ]
  },
  {
   "cell_type": "code",
   "execution_count": null,
   "metadata": {},
   "outputs": [],
   "source": [
    "# Task 5 - Tip Calculator \n",
    "\n",
    "# Get the bill amount and tip they wish to give (10, 15, 20) from the customer then calculate the total bill\n",
    "\n",
    "\n"
   ]
  }
 ],
 "metadata": {
  "kernelspec": {
   "display_name": "Python 3",
   "language": "python",
   "name": "python3"
  },
  "language_info": {
   "codemirror_mode": {
    "name": "ipython",
    "version": 3
   },
   "file_extension": ".py",
   "mimetype": "text/x-python",
   "name": "python",
   "nbconvert_exporter": "python",
   "pygments_lexer": "ipython3",
   "version": "3.7.4"
  }
 },
 "nbformat": 4,
 "nbformat_minor": 4
}
