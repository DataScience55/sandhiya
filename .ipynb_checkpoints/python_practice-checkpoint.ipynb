{
 "cells": [
  {
   "cell_type": "code",
   "execution_count": 3,
   "metadata": {},
   "outputs": [
    {
     "name": "stdout",
     "output_type": "stream",
     "text": [
      "Enter the value : Sandhiya\n",
      "Enter your age :18\n",
      "Enter your weight :40.5\n"
     ]
    }
   ],
   "source": [
    "# create 3variables and get value from users\n",
    "\n",
    "name = input(\"Enter the value : \")\n",
    "age = int(input(\"Enter your age :\" ))\n",
    "weight = float(input(\"Enter your weight :\" ))\n"
   ]
  },
  {
   "cell_type": "code",
   "execution_count": 8,
   "metadata": {},
   "outputs": [
    {
     "name": "stdout",
     "output_type": "stream",
     "text": [
      "my name is Sandhiya, my age is 18, my weight is40.5\n"
     ]
    }
   ],
   "source": [
    "print(f\"my name is {name}, my age is {age}, my weight is{weight}\")"
   ]
  },
  {
   "cell_type": "code",
   "execution_count": 11,
   "metadata": {},
   "outputs": [
    {
     "name": "stdout",
     "output_type": "stream",
     "text": [
      "My name is Sandhiya\n",
      "My age is 18\n",
      "My weight is 40.5\n"
     ]
    }
   ],
   "source": [
    "print(f\"My name is {name}\\nMy age is {age}\\nMy weight is {weight}\" )"
   ]
  },
  {
   "cell_type": "code",
   "execution_count": 19,
   "metadata": {},
   "outputs": [
    {
     "name": "stdout",
     "output_type": "stream",
     "text": [
      "My name is  Sandhiya My age is  18 My weight is 40.5\n"
     ]
    }
   ],
   "source": [
    "print(\"My name is \",name , \"My age is \",age , \"My weight is\", weight)"
   ]
  },
  {
   "cell_type": "code",
   "execution_count": 21,
   "metadata": {},
   "outputs": [
    {
     "name": "stdout",
     "output_type": "stream",
     "text": [
      "My name is  Sandhiya \n",
      "My age is  18 \n",
      "My weight is \n"
     ]
    }
   ],
   "source": [
    "print(\"My name is \", name,\"\\nMy age is \", age,\"\\nMy weight is \")"
   ]
  },
  {
   "cell_type": "code",
   "execution_count": 25,
   "metadata": {},
   "outputs": [
    {
     "name": "stdout",
     "output_type": "stream",
     "text": [
      "My name is Sandhiya My age is 18 My weight is40.5\n"
     ]
    }
   ],
   "source": [
    "print(\"My name is \"+ name+\" \"+ \"My age is \"+ str(age)+ \" My weight is\"+str(weight))"
   ]
  },
  {
   "cell_type": "code",
   "execution_count": 7,
   "metadata": {},
   "outputs": [
    {
     "name": "stdout",
     "output_type": "stream",
     "text": [
      "Enter the value : 10\n",
      "Enter the value : 12\n",
      "Enter the value : 14\n",
      "36.0\n",
      "-16.0\n",
      "1680.0\n",
      "0.05952380952380953\n"
     ]
    }
   ],
   "source": [
    "# Task - 1\n",
    "\n",
    "# Create 3 Variables (str, int, float) and do Arithmetic operations\n",
    "\n",
    "a = input(\"Enter the value : \")\n",
    "\n",
    "b = int(input(\"Enter the value : \"))\n",
    "        \n",
    "c = float(input(\"Enter the value : \")) \n",
    "\n",
    "print(int(a)+b+c)\n",
    "print(int(a)-b-c)\n",
    "print(int(a)*b*c) \n",
    "print(int(a)/b/c)\n"
   ]
  },
  {
   "cell_type": "code",
   "execution_count": null,
   "metadata": {},
   "outputs": [],
   "source": []
  }
 ],
 "metadata": {
  "kernelspec": {
   "display_name": "Python 3",
   "language": "python",
   "name": "python3"
  },
  "language_info": {
   "codemirror_mode": {
    "name": "ipython",
    "version": 3
   },
   "file_extension": ".py",
   "mimetype": "text/x-python",
   "name": "python",
   "nbconvert_exporter": "python",
   "pygments_lexer": "ipython3",
   "version": "3.8.5"
  }
 },
 "nbformat": 4,
 "nbformat_minor": 4
}
